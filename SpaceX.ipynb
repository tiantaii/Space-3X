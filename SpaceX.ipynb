{
 "cells": [
  {
   "cell_type": "code",
   "execution_count": 1,
   "id": "9b811b8c-1b24-4227-b46e-fc52558ca410",
   "metadata": {},
   "outputs": [],
   "source": [
    "import pandas as pd\n",
    "import numpy as np\n",
    "import matplotlib.pyplot as plt\n",
    "import folium\n",
    "from folium.plugins import HeatMap"
   ]
  },
  {
   "cell_type": "code",
   "execution_count": 2,
   "id": "e285a544-0cd2-4808-bc7c-8aa997fa5c7f",
   "metadata": {},
   "outputs": [
    {
     "data": {
      "text/html": [
       "<div>\n",
       "<style scoped>\n",
       "    .dataframe tbody tr th:only-of-type {\n",
       "        vertical-align: middle;\n",
       "    }\n",
       "\n",
       "    .dataframe tbody tr th {\n",
       "        vertical-align: top;\n",
       "    }\n",
       "\n",
       "    .dataframe thead th {\n",
       "        text-align: right;\n",
       "    }\n",
       "</style>\n",
       "<table border=\"1\" class=\"dataframe\">\n",
       "  <thead>\n",
       "    <tr style=\"text-align: right;\">\n",
       "      <th></th>\n",
       "      <th>FlightNumber</th>\n",
       "      <th>Date</th>\n",
       "      <th>BoosterVersion</th>\n",
       "      <th>PayloadMass</th>\n",
       "      <th>Orbit</th>\n",
       "      <th>LaunchSite</th>\n",
       "      <th>Outcome</th>\n",
       "      <th>Flights</th>\n",
       "      <th>GridFins</th>\n",
       "      <th>Reused</th>\n",
       "      <th>Legs</th>\n",
       "      <th>LandingPad</th>\n",
       "      <th>Block</th>\n",
       "      <th>ReusedCount</th>\n",
       "      <th>Serial</th>\n",
       "      <th>Longitude</th>\n",
       "      <th>Latitude</th>\n",
       "    </tr>\n",
       "  </thead>\n",
       "  <tbody>\n",
       "    <tr>\n",
       "      <th>0</th>\n",
       "      <td>1</td>\n",
       "      <td>2010-06-04</td>\n",
       "      <td>Falcon 9</td>\n",
       "      <td>6104.959412</td>\n",
       "      <td>LEO</td>\n",
       "      <td>CCAFS SLC 40</td>\n",
       "      <td>None None</td>\n",
       "      <td>1</td>\n",
       "      <td>False</td>\n",
       "      <td>False</td>\n",
       "      <td>False</td>\n",
       "      <td>NaN</td>\n",
       "      <td>1.0</td>\n",
       "      <td>0</td>\n",
       "      <td>B0003</td>\n",
       "      <td>-80.577366</td>\n",
       "      <td>28.561857</td>\n",
       "    </tr>\n",
       "    <tr>\n",
       "      <th>1</th>\n",
       "      <td>2</td>\n",
       "      <td>2012-05-22</td>\n",
       "      <td>Falcon 9</td>\n",
       "      <td>525.000000</td>\n",
       "      <td>LEO</td>\n",
       "      <td>CCAFS SLC 40</td>\n",
       "      <td>None None</td>\n",
       "      <td>1</td>\n",
       "      <td>False</td>\n",
       "      <td>False</td>\n",
       "      <td>False</td>\n",
       "      <td>NaN</td>\n",
       "      <td>1.0</td>\n",
       "      <td>0</td>\n",
       "      <td>B0005</td>\n",
       "      <td>-80.577366</td>\n",
       "      <td>28.561857</td>\n",
       "    </tr>\n",
       "    <tr>\n",
       "      <th>2</th>\n",
       "      <td>3</td>\n",
       "      <td>2013-03-01</td>\n",
       "      <td>Falcon 9</td>\n",
       "      <td>677.000000</td>\n",
       "      <td>ISS</td>\n",
       "      <td>CCAFS SLC 40</td>\n",
       "      <td>None None</td>\n",
       "      <td>1</td>\n",
       "      <td>False</td>\n",
       "      <td>False</td>\n",
       "      <td>False</td>\n",
       "      <td>NaN</td>\n",
       "      <td>1.0</td>\n",
       "      <td>0</td>\n",
       "      <td>B0007</td>\n",
       "      <td>-80.577366</td>\n",
       "      <td>28.561857</td>\n",
       "    </tr>\n",
       "    <tr>\n",
       "      <th>3</th>\n",
       "      <td>4</td>\n",
       "      <td>2013-09-29</td>\n",
       "      <td>Falcon 9</td>\n",
       "      <td>500.000000</td>\n",
       "      <td>PO</td>\n",
       "      <td>VAFB SLC 4E</td>\n",
       "      <td>False Ocean</td>\n",
       "      <td>1</td>\n",
       "      <td>False</td>\n",
       "      <td>False</td>\n",
       "      <td>False</td>\n",
       "      <td>NaN</td>\n",
       "      <td>1.0</td>\n",
       "      <td>0</td>\n",
       "      <td>B1003</td>\n",
       "      <td>-120.610829</td>\n",
       "      <td>34.632093</td>\n",
       "    </tr>\n",
       "    <tr>\n",
       "      <th>4</th>\n",
       "      <td>5</td>\n",
       "      <td>2013-12-03</td>\n",
       "      <td>Falcon 9</td>\n",
       "      <td>3170.000000</td>\n",
       "      <td>GTO</td>\n",
       "      <td>CCAFS SLC 40</td>\n",
       "      <td>None None</td>\n",
       "      <td>1</td>\n",
       "      <td>False</td>\n",
       "      <td>False</td>\n",
       "      <td>False</td>\n",
       "      <td>NaN</td>\n",
       "      <td>1.0</td>\n",
       "      <td>0</td>\n",
       "      <td>B1004</td>\n",
       "      <td>-80.577366</td>\n",
       "      <td>28.561857</td>\n",
       "    </tr>\n",
       "    <tr>\n",
       "      <th>5</th>\n",
       "      <td>6</td>\n",
       "      <td>2014-01-06</td>\n",
       "      <td>Falcon 9</td>\n",
       "      <td>3325.000000</td>\n",
       "      <td>GTO</td>\n",
       "      <td>CCAFS SLC 40</td>\n",
       "      <td>None None</td>\n",
       "      <td>1</td>\n",
       "      <td>False</td>\n",
       "      <td>False</td>\n",
       "      <td>False</td>\n",
       "      <td>NaN</td>\n",
       "      <td>1.0</td>\n",
       "      <td>0</td>\n",
       "      <td>B1005</td>\n",
       "      <td>-80.577366</td>\n",
       "      <td>28.561857</td>\n",
       "    </tr>\n",
       "    <tr>\n",
       "      <th>6</th>\n",
       "      <td>7</td>\n",
       "      <td>2014-04-18</td>\n",
       "      <td>Falcon 9</td>\n",
       "      <td>2296.000000</td>\n",
       "      <td>ISS</td>\n",
       "      <td>CCAFS SLC 40</td>\n",
       "      <td>True Ocean</td>\n",
       "      <td>1</td>\n",
       "      <td>False</td>\n",
       "      <td>False</td>\n",
       "      <td>True</td>\n",
       "      <td>NaN</td>\n",
       "      <td>1.0</td>\n",
       "      <td>0</td>\n",
       "      <td>B1006</td>\n",
       "      <td>-80.577366</td>\n",
       "      <td>28.561857</td>\n",
       "    </tr>\n",
       "    <tr>\n",
       "      <th>7</th>\n",
       "      <td>8</td>\n",
       "      <td>2014-07-14</td>\n",
       "      <td>Falcon 9</td>\n",
       "      <td>1316.000000</td>\n",
       "      <td>LEO</td>\n",
       "      <td>CCAFS SLC 40</td>\n",
       "      <td>True Ocean</td>\n",
       "      <td>1</td>\n",
       "      <td>False</td>\n",
       "      <td>False</td>\n",
       "      <td>True</td>\n",
       "      <td>NaN</td>\n",
       "      <td>1.0</td>\n",
       "      <td>0</td>\n",
       "      <td>B1007</td>\n",
       "      <td>-80.577366</td>\n",
       "      <td>28.561857</td>\n",
       "    </tr>\n",
       "    <tr>\n",
       "      <th>8</th>\n",
       "      <td>9</td>\n",
       "      <td>2014-08-05</td>\n",
       "      <td>Falcon 9</td>\n",
       "      <td>4535.000000</td>\n",
       "      <td>GTO</td>\n",
       "      <td>CCAFS SLC 40</td>\n",
       "      <td>None None</td>\n",
       "      <td>1</td>\n",
       "      <td>False</td>\n",
       "      <td>False</td>\n",
       "      <td>False</td>\n",
       "      <td>NaN</td>\n",
       "      <td>1.0</td>\n",
       "      <td>0</td>\n",
       "      <td>B1008</td>\n",
       "      <td>-80.577366</td>\n",
       "      <td>28.561857</td>\n",
       "    </tr>\n",
       "    <tr>\n",
       "      <th>9</th>\n",
       "      <td>10</td>\n",
       "      <td>2014-09-07</td>\n",
       "      <td>Falcon 9</td>\n",
       "      <td>4428.000000</td>\n",
       "      <td>GTO</td>\n",
       "      <td>CCAFS SLC 40</td>\n",
       "      <td>None None</td>\n",
       "      <td>1</td>\n",
       "      <td>False</td>\n",
       "      <td>False</td>\n",
       "      <td>False</td>\n",
       "      <td>NaN</td>\n",
       "      <td>1.0</td>\n",
       "      <td>0</td>\n",
       "      <td>B1011</td>\n",
       "      <td>-80.577366</td>\n",
       "      <td>28.561857</td>\n",
       "    </tr>\n",
       "  </tbody>\n",
       "</table>\n",
       "</div>"
      ],
      "text/plain": [
       "   FlightNumber        Date BoosterVersion  PayloadMass Orbit    LaunchSite  \\\n",
       "0             1  2010-06-04       Falcon 9  6104.959412   LEO  CCAFS SLC 40   \n",
       "1             2  2012-05-22       Falcon 9   525.000000   LEO  CCAFS SLC 40   \n",
       "2             3  2013-03-01       Falcon 9   677.000000   ISS  CCAFS SLC 40   \n",
       "3             4  2013-09-29       Falcon 9   500.000000    PO   VAFB SLC 4E   \n",
       "4             5  2013-12-03       Falcon 9  3170.000000   GTO  CCAFS SLC 40   \n",
       "5             6  2014-01-06       Falcon 9  3325.000000   GTO  CCAFS SLC 40   \n",
       "6             7  2014-04-18       Falcon 9  2296.000000   ISS  CCAFS SLC 40   \n",
       "7             8  2014-07-14       Falcon 9  1316.000000   LEO  CCAFS SLC 40   \n",
       "8             9  2014-08-05       Falcon 9  4535.000000   GTO  CCAFS SLC 40   \n",
       "9            10  2014-09-07       Falcon 9  4428.000000   GTO  CCAFS SLC 40   \n",
       "\n",
       "       Outcome  Flights  GridFins  Reused   Legs LandingPad  Block  \\\n",
       "0    None None        1     False   False  False        NaN    1.0   \n",
       "1    None None        1     False   False  False        NaN    1.0   \n",
       "2    None None        1     False   False  False        NaN    1.0   \n",
       "3  False Ocean        1     False   False  False        NaN    1.0   \n",
       "4    None None        1     False   False  False        NaN    1.0   \n",
       "5    None None        1     False   False  False        NaN    1.0   \n",
       "6   True Ocean        1     False   False   True        NaN    1.0   \n",
       "7   True Ocean        1     False   False   True        NaN    1.0   \n",
       "8    None None        1     False   False  False        NaN    1.0   \n",
       "9    None None        1     False   False  False        NaN    1.0   \n",
       "\n",
       "   ReusedCount Serial   Longitude   Latitude  \n",
       "0            0  B0003  -80.577366  28.561857  \n",
       "1            0  B0005  -80.577366  28.561857  \n",
       "2            0  B0007  -80.577366  28.561857  \n",
       "3            0  B1003 -120.610829  34.632093  \n",
       "4            0  B1004  -80.577366  28.561857  \n",
       "5            0  B1005  -80.577366  28.561857  \n",
       "6            0  B1006  -80.577366  28.561857  \n",
       "7            0  B1007  -80.577366  28.561857  \n",
       "8            0  B1008  -80.577366  28.561857  \n",
       "9            0  B1011  -80.577366  28.561857  "
      ]
     },
     "execution_count": 2,
     "metadata": {},
     "output_type": "execute_result"
    }
   ],
   "source": [
    "df=pd.read_csv(\"https://cf-courses-data.s3.us.cloud-object-storage.appdomain.cloud/IBM-DS0321EN-SkillsNetwork/datasets/dataset_part_1.csv\")\n",
    "df.head(10)"
   ]
  },
  {
   "cell_type": "code",
   "execution_count": 3,
   "id": "f81bd6c2-e50f-46da-b1fe-caae06c5f026",
   "metadata": {},
   "outputs": [
    {
     "data": {
      "text/plain": [
       "FlightNumber       0.000\n",
       "Date               0.000\n",
       "BoosterVersion     0.000\n",
       "PayloadMass        0.000\n",
       "Orbit              0.000\n",
       "LaunchSite         0.000\n",
       "Outcome            0.000\n",
       "Flights            0.000\n",
       "GridFins           0.000\n",
       "Reused             0.000\n",
       "Legs               0.000\n",
       "LandingPad        40.625\n",
       "Block              0.000\n",
       "ReusedCount        0.000\n",
       "Serial             0.000\n",
       "Longitude          0.000\n",
       "Latitude           0.000\n",
       "dtype: float64"
      ]
     },
     "execution_count": 3,
     "metadata": {},
     "output_type": "execute_result"
    }
   ],
   "source": [
    "df.isnull().sum()/df.count()*100"
   ]
  },
  {
   "cell_type": "code",
   "execution_count": 4,
   "id": "c4208f16-2f61-44c3-916b-4e1226a2dd90",
   "metadata": {},
   "outputs": [
    {
     "data": {
      "text/plain": [
       "FlightNumber        int64\n",
       "Date               object\n",
       "BoosterVersion     object\n",
       "PayloadMass       float64\n",
       "Orbit              object\n",
       "LaunchSite         object\n",
       "Outcome            object\n",
       "Flights             int64\n",
       "GridFins             bool\n",
       "Reused               bool\n",
       "Legs                 bool\n",
       "LandingPad         object\n",
       "Block             float64\n",
       "ReusedCount         int64\n",
       "Serial             object\n",
       "Longitude         float64\n",
       "Latitude          float64\n",
       "dtype: object"
      ]
     },
     "execution_count": 4,
     "metadata": {},
     "output_type": "execute_result"
    }
   ],
   "source": [
    "df.dtypes"
   ]
  },
  {
   "cell_type": "code",
   "execution_count": 5,
   "id": "5b57cbf9-527c-4a0b-b452-b1db3455bfa9",
   "metadata": {},
   "outputs": [
    {
     "name": "stdout",
     "output_type": "stream",
     "text": [
      "LaunchSite\n",
      "CCAFS SLC 40    55\n",
      "KSC LC 39A      22\n",
      "VAFB SLC 4E     13\n",
      "Name: count, dtype: int64\n"
     ]
    }
   ],
   "source": [
    "#Conteo de lanzamientos por sitio\n",
    "launch_counts = df['LaunchSite'].value_counts()\n",
    "print(launch_counts)"
   ]
  },
  {
   "cell_type": "code",
   "execution_count": 6,
   "id": "5fd7ec40-13f5-48ee-a0c2-4e3c1e05d580",
   "metadata": {},
   "outputs": [
    {
     "name": "stdout",
     "output_type": "stream",
     "text": [
      "Orbit\n",
      "GTO      27\n",
      "ISS      21\n",
      "VLEO     14\n",
      "PO        9\n",
      "LEO       7\n",
      "SSO       5\n",
      "MEO       3\n",
      "ES-L1     1\n",
      "HEO       1\n",
      "SO        1\n",
      "GEO       1\n",
      "Name: count, dtype: int64\n"
     ]
    }
   ],
   "source": [
    "# Conteo de ocurrencias para cada tipo de órbita\n",
    "orbit_counts = df['Orbit'].value_counts()\n",
    "print(orbit_counts)\n"
   ]
  },
  {
   "cell_type": "code",
   "execution_count": 7,
   "id": "db5f1a22-9332-4d26-a843-4a9720bd8b9b",
   "metadata": {},
   "outputs": [
    {
     "name": "stdout",
     "output_type": "stream",
     "text": [
      "Outcome\n",
      "True ASDS      41\n",
      "None None      19\n",
      "True RTLS      14\n",
      "False ASDS      6\n",
      "True Ocean      5\n",
      "False Ocean     2\n",
      "None ASDS       2\n",
      "False RTLS      1\n",
      "Name: count, dtype: int64\n"
     ]
    }
   ],
   "source": [
    "# Conteo de resultados de aterrizajes\n",
    "landing_outcomes = df['Outcome'].value_counts()\n",
    "print(landing_outcomes)\n"
   ]
  },
  {
   "cell_type": "code",
   "execution_count": 8,
   "id": "24a70a32-5151-4cb2-a64d-55eb69ac07ee",
   "metadata": {},
   "outputs": [
    {
     "name": "stdout",
     "output_type": "stream",
     "text": [
      "0 True ASDS\n",
      "1 None None\n",
      "2 True RTLS\n",
      "3 False ASDS\n",
      "4 True Ocean\n",
      "5 False Ocean\n",
      "6 None ASDS\n",
      "7 False RTLS\n"
     ]
    }
   ],
   "source": [
    "for i,outcome in enumerate(landing_outcomes.keys()):\n",
    "    print(i,outcome)"
   ]
  },
  {
   "cell_type": "code",
   "execution_count": 9,
   "id": "26cd1a1a-9d47-4d92-9e99-0226995cae59",
   "metadata": {},
   "outputs": [
    {
     "data": {
      "text/plain": [
       "{'False ASDS', 'False Ocean', 'False RTLS', 'None ASDS', 'None None'}"
      ]
     },
     "execution_count": 9,
     "metadata": {},
     "output_type": "execute_result"
    }
   ],
   "source": [
    "bad_outcomes=set(landing_outcomes.keys()[[1,3,5,6,7]])\n",
    "bad_outcomes"
   ]
  },
  {
   "cell_type": "code",
   "execution_count": 10,
   "id": "f22e5640-e977-4e66-b43c-ccc92394233f",
   "metadata": {},
   "outputs": [],
   "source": [
    "bad_outcome = {\"Failure: Parachute Failure\", \"Failure: Engine Failure\", ...}  # Añade todos los malos resultados aquí\n",
    "landing_class = [0 if outcome in bad_outcome else 1 for outcome in df['Outcome']]\n"
   ]
  },
  {
   "cell_type": "code",
   "execution_count": 11,
   "id": "9c3321ae-0af3-4cee-a442-1449689271c2",
   "metadata": {},
   "outputs": [
    {
     "data": {
      "text/html": [
       "<div>\n",
       "<style scoped>\n",
       "    .dataframe tbody tr th:only-of-type {\n",
       "        vertical-align: middle;\n",
       "    }\n",
       "\n",
       "    .dataframe tbody tr th {\n",
       "        vertical-align: top;\n",
       "    }\n",
       "\n",
       "    .dataframe thead th {\n",
       "        text-align: right;\n",
       "    }\n",
       "</style>\n",
       "<table border=\"1\" class=\"dataframe\">\n",
       "  <thead>\n",
       "    <tr style=\"text-align: right;\">\n",
       "      <th></th>\n",
       "      <th>Class</th>\n",
       "    </tr>\n",
       "  </thead>\n",
       "  <tbody>\n",
       "    <tr>\n",
       "      <th>0</th>\n",
       "      <td>1</td>\n",
       "    </tr>\n",
       "    <tr>\n",
       "      <th>1</th>\n",
       "      <td>1</td>\n",
       "    </tr>\n",
       "    <tr>\n",
       "      <th>2</th>\n",
       "      <td>1</td>\n",
       "    </tr>\n",
       "    <tr>\n",
       "      <th>3</th>\n",
       "      <td>1</td>\n",
       "    </tr>\n",
       "    <tr>\n",
       "      <th>4</th>\n",
       "      <td>1</td>\n",
       "    </tr>\n",
       "    <tr>\n",
       "      <th>5</th>\n",
       "      <td>1</td>\n",
       "    </tr>\n",
       "    <tr>\n",
       "      <th>6</th>\n",
       "      <td>1</td>\n",
       "    </tr>\n",
       "    <tr>\n",
       "      <th>7</th>\n",
       "      <td>1</td>\n",
       "    </tr>\n",
       "  </tbody>\n",
       "</table>\n",
       "</div>"
      ],
      "text/plain": [
       "   Class\n",
       "0      1\n",
       "1      1\n",
       "2      1\n",
       "3      1\n",
       "4      1\n",
       "5      1\n",
       "6      1\n",
       "7      1"
      ]
     },
     "execution_count": 11,
     "metadata": {},
     "output_type": "execute_result"
    }
   ],
   "source": [
    "df['Class']=landing_class\n",
    "df[['Class']].head(8)"
   ]
  },
  {
   "cell_type": "code",
   "execution_count": 12,
   "id": "cb669b9e-8309-4215-aae6-62bd3996da78",
   "metadata": {},
   "outputs": [
    {
     "data": {
      "text/plain": [
       "1.0"
      ]
     },
     "execution_count": 12,
     "metadata": {},
     "output_type": "execute_result"
    }
   ],
   "source": [
    "df[\"Class\"].mean()"
   ]
  },
  {
   "cell_type": "code",
   "execution_count": 13,
   "id": "388816f1-f735-4134-8098-47aaf5647932",
   "metadata": {},
   "outputs": [
    {
     "data": {
      "image/png": "[encoded data removed]",
      "text/plain": [
       "<Figure size 640x480 with 1 Axes>"
      ]
     },
     "metadata": {},
     "output_type": "display_data"
    }
   ],
   "source": [
    "launch_counts = df['LaunchSite'].value_counts()\n",
    "launch_counts.plot(kind='bar')\n",
    "plt.xlabel('Launch Site')\n",
    "plt.ylabel('Number of Launches')\n",
    "plt.title('Number of Launches per Launch Site')\n",
    "plt.show()"
   ]
  },
  {
   "cell_type": "code",
   "execution_count": 14,
   "id": "d85ee240-f2a4-4a99-895d-e22c16b1942a",
   "metadata": {},
   "outputs": [
    {
     "data": {
      "image/png": "[encoded data removed]",
      "text/plain": [
       "<Figure size 640x480 with 1 Axes>"
      ]
     },
     "metadata": {},
     "output_type": "display_data"
    }
   ],
   "source": [
    "orbit_counts = df['Orbit'].value_counts()\n",
    "orbit_counts.plot(kind='pie', autopct='%1.1f%%')\n",
    "plt.title('Launches by Orbit Type')\n",
    "plt.ylabel('')\n",
    "plt.show()\n"
   ]
  },
  {
   "cell_type": "code",
   "execution_count": 15,
   "id": "1e0b6f03-456e-405a-8916-f4af72bfc71a",
   "metadata": {},
   "outputs": [
    {
     "data": {
      "image/png": "[encoded data removed]",
      "text/plain": [
       "<Figure size 640x480 with 1 Axes>"
      ]
     },
     "metadata": {},
     "output_type": "display_data"
    }
   ],
   "source": [
    "landing_outcomes = df['Outcome'].value_counts()\n",
    "landing_outcomes.plot(kind='bar')\n",
    "plt.xlabel('Landing Outcome')\n",
    "plt.ylabel('Frequency')\n",
    "plt.title('Frequency of Landing Outcomes')\n",
    "plt.show()\n"
   ]
  },
  {
   "cell_type": "code",
   "execution_count": 17,
   "id": "31a8d6d5-2628-47e6-ba8c-f33d401bba1c",
   "metadata": {},
   "outputs": [
    {
     "name": "stdout",
     "output_type": "stream",
     "text": [
      "   FlightNumber        Date BoosterVersion  PayloadMass Orbit    LaunchSite  \\\n",
      "0             1  2010-06-04       Falcon 9  6104.959412   LEO  CCAFS SLC 40   \n",
      "1             2  2012-05-22       Falcon 9   525.000000   LEO  CCAFS SLC 40   \n",
      "2             3  2013-03-01       Falcon 9   677.000000   ISS  CCAFS SLC 40   \n",
      "3             4  2013-09-29       Falcon 9   500.000000    PO   VAFB SLC 4E   \n",
      "4             5  2013-12-03       Falcon 9  3170.000000   GTO  CCAFS SLC 40   \n",
      "\n",
      "       Outcome  Flights  GridFins  Reused   Legs LandingPad  Block  \\\n",
      "0    None None        1     False   False  False        NaN    1.0   \n",
      "1    None None        1     False   False  False        NaN    1.0   \n",
      "2    None None        1     False   False  False        NaN    1.0   \n",
      "3  False Ocean        1     False   False  False        NaN    1.0   \n",
      "4    None None        1     False   False  False        NaN    1.0   \n",
      "\n",
      "   ReusedCount Serial   Longitude   Latitude  Class  success  \n",
      "0            0  B0003  -80.577366  28.561857      1        0  \n",
      "1            0  B0005  -80.577366  28.561857      1        0  \n",
      "2            0  B0007  -80.577366  28.561857      1        0  \n",
      "3            0  B1003 -120.610829  34.632093      1        0  \n",
      "4            0  B1004  -80.577366  28.561857      1        0  \n"
     ]
    }
   ],
   "source": [
    "# Asegúrate de que esta línea se ejecute correctamente\n",
    "df['success'] = df['Outcome'].apply(lambda x: 1 if 'True' in x else 0)\n",
    "# Verifica si la columna 'success' está presente\n",
    "print(df.head())\n"
   ]
  },
  {
   "cell_type": "code",
   "execution_count": 24,
   "id": "43dfdba6-4083-48da-9f21-a9b2f3e8e944",
   "metadata": {},
   "outputs": [
    {
     "data": {
      "text/html": [
       "<div style=\"width:100%;\"><div style=\"position:relative;width:100%;height:0;padding-bottom:60%;\"><span style=\"color:#565656\">Make this Notebook Trusted to load map: File -> Trust Notebook</span><iframe srcdoc=\"&lt;!DOCTYPE html&gt;\n",
       "&lt;html&gt;\n",
       "&lt;head&gt;\n",
       "    \n",
       "    &lt;meta http-equiv=&quot;content-type&quot; content=&quot;text/html; charset=UTF-8&quot; /&gt;\n",
       "    \n",
       "        &lt;script&gt;\n",
       "            L_NO_TOUCH = false;\n",
       "            L_DISABLE_3D = false;\n",
       "        &lt;/script&gt;\n",
       "    \n",
       "    &lt;style&gt;html, body {width: 100%;height: 100%;margin: 0;padding: 0;}&lt;/style&gt;\n",
       "    &lt;style&gt;#map {position:absolute;top:0;bottom:0;right:0;left:0;}&lt;/style&gt;\n",
       "    &lt;script src=&quot;https://cdn.jsdelivr.net/npm/leaflet@1.9.3/dist/leaflet.js&quot;&gt;&lt;/script&gt;\n",
       "    &lt;script src=&quot;https://code.jquery.com/jquery-1.12.4.min.js&quot;&gt;&lt;/script&gt;\n",
       "    &lt;script src=&quot;https://cdn.jsdelivr.net/npm/bootstrap@5.2.2/dist/js/bootstrap.bundle.min.js&quot;&gt;&lt;/script&gt;\n",
       "    &lt;script src=&quot;https://cdnjs.cloudflare.com/ajax/libs/Leaflet.awesome-markers/2.0.2/leaflet.awesome-markers.js&quot;&gt;&lt;/script&gt;\n",
       "    &lt;link rel=&quot;stylesheet&quot; href=&quot;https://cdn.jsdelivr.net/npm/leaflet@1.9.3/dist/leaflet.css&quot;/&gt;\n",
       "    &lt;link rel=&quot;stylesheet&quot; href=&quot;https://cdn.jsdelivr.net/npm/bootstrap@5.2.2/dist/css/bootstrap.min.css&quot;/&gt;\n",
       "    &lt;link rel=&quot;stylesheet&quot; href=&quot;https://netdna.bootstrapcdn.com/bootstrap/3.0.0/css/bootstrap.min.css&quot;/&gt;\n",
       "    &lt;link rel=&quot;stylesheet&quot; href=&quot;https://cdn.jsdelivr.net/npm/@fortawesome/fontawesome-free@6.2.0/css/all.min.css&quot;/&gt;\n",
       "    &lt;link rel=&quot;stylesheet&quot; href=&quot;https://cdnjs.cloudflare.com/ajax/libs/Leaflet.awesome-markers/2.0.2/leaflet.awesome-markers.css&quot;/&gt;\n",
       "    &lt;link rel=&quot;stylesheet&quot; href=&quot;https://cdn.jsdelivr.net/gh/python-visualization/folium/folium/templates/leaflet.awesome.rotate.min.css&quot;/&gt;\n",
       "    \n",
       "            &lt;meta name=&quot;viewport&quot; content=&quot;width=device-width,\n",
       "                initial-scale=1.0, maximum-scale=1.0, user-scalable=no&quot; /&gt;\n",
       "            &lt;style&gt;\n",
       "                #map_73a91acf6c3d70b532ba159381f70aa2 {\n",
       "                    position: relative;\n",
       "                    width: 100.0%;\n",
       "                    height: 100.0%;\n",
       "                    left: 0.0%;\n",
       "                    top: 0.0%;\n",
       "                }\n",
       "                .leaflet-container { font-size: 1rem; }\n",
       "            &lt;/style&gt;\n",
       "        \n",
       "    &lt;script src=&quot;https://cdn.jsdelivr.net/gh/python-visualization/folium@main/folium/templates/leaflet_heat.min.js&quot;&gt;&lt;/script&gt;\n",
       "&lt;/head&gt;\n",
       "&lt;body&gt;\n",
       "    \n",
       "    \n",
       "            &lt;div class=&quot;folium-map&quot; id=&quot;map_73a91acf6c3d70b532ba159381f70aa2&quot; &gt;&lt;/div&gt;\n",
       "        \n",
       "&lt;/body&gt;\n",
       "&lt;script&gt;\n",
       "    \n",
       "    \n",
       "            var map_73a91acf6c3d70b532ba159381f70aa2 = L.map(\n",
       "                &quot;map_73a91acf6c3d70b532ba159381f70aa2&quot;,\n",
       "                {\n",
       "                    center: [29.44996262777778, -86.36647705111112],\n",
       "                    crs: L.CRS.EPSG3857,\n",
       "                    zoom: 5,\n",
       "                    zoomControl: true,\n",
       "                    preferCanvas: false,\n",
       "                }\n",
       "            );\n",
       "\n",
       "            \n",
       "\n",
       "        \n",
       "    \n",
       "            var tile_layer_8cf35f2e4c248e4e1c0f6aa0564c0d90 = L.tileLayer(\n",
       "                &quot;https://{s}.tile.openstreetmap.org/{z}/{x}/{y}.png&quot;,\n",
       "                {&quot;attribution&quot;: &quot;Data by \\u0026copy; \\u003ca target=\\&quot;_blank\\&quot; href=\\&quot;http://openstreetmap.org\\&quot;\\u003eOpenStreetMap\\u003c/a\\u003e, under \\u003ca target=\\&quot;_blank\\&quot; href=\\&quot;http://www.openstreetmap.org/copyright\\&quot;\\u003eODbL\\u003c/a\\u003e.&quot;, &quot;detectRetina&quot;: false, &quot;maxNativeZoom&quot;: 18, &quot;maxZoom&quot;: 18, &quot;minZoom&quot;: 0, &quot;noWrap&quot;: false, &quot;opacity&quot;: 1, &quot;subdomains&quot;: &quot;abc&quot;, &quot;tms&quot;: false}\n",
       "            ).addTo(map_73a91acf6c3d70b532ba159381f70aa2);\n",
       "        \n",
       "    \n",
       "            var heat_map_86e239cc447c84037a654df45bc31f28 = L.heatLayer(\n",
       "                [[28.5618571, -80.577366, 0.0], [28.5618571, -80.577366, 0.0], [28.5618571, -80.577366, 0.0], [34.632093, -120.610829, 0.0], [28.5618571, -80.577366, 0.0], [28.5618571, -80.577366, 0.0], [28.5618571, -80.577366, 1.0], [28.5618571, -80.577366, 1.0], [28.5618571, -80.577366, 0.0], [28.5618571, -80.577366, 0.0], [28.5618571, -80.577366, 0.0], [28.5618571, -80.577366, 0.0], [28.5618571, -80.577366, 1.0], [28.5618571, -80.577366, 0.0], [28.5618571, -80.577366, 0.0], [28.5618571, -80.577366, 0.0], [28.5618571, -80.577366, 1.0], [34.632093, -120.610829, 0.0], [28.5618571, -80.577366, 0.0], [28.5618571, -80.577366, 1.0], [28.5618571, -80.577366, 1.0], [28.5618571, -80.577366, 1.0], [28.5618571, -80.577366, 1.0], [28.5618571, -80.577366, 1.0], [28.5618571, -80.577366, 0.0], [34.632093, -120.610829, 1.0], [28.6080585, -80.6039558, 1.0], [28.6080585, -80.6039558, 0.0], [28.6080585, -80.6039558, 1.0], [28.6080585, -80.6039558, 1.0], [28.6080585, -80.6039558, 0.0], [28.6080585, -80.6039558, 1.0], [28.6080585, -80.6039558, 1.0], [34.632093, -120.610829, 1.0], [28.6080585, -80.6039558, 0.0], [28.6080585, -80.6039558, 1.0], [34.632093, -120.610829, 1.0], [28.6080585, -80.6039558, 1.0], [34.632093, -120.610829, 1.0], [28.6080585, -80.6039558, 1.0], [28.6080585, -80.6039558, 1.0], [28.5618571, -80.577366, 1.0], [34.632093, -120.610829, 1.0], [28.5618571, -80.577366, 1.0], [28.5618571, -80.577366, 1.0], [28.5618571, -80.577366, 0.0], [34.632093, -120.610829, 0.0], [28.5618571, -80.577366, 0.0], [28.5618571, -80.577366, 1.0], [28.6080585, -80.6039558, 1.0], [28.5618571, -80.577366, 0.0], [28.5618571, -80.577366, 0.0], [28.5618571, -80.577366, 1.0], [34.632093, -120.610829, 1.0], [28.5618571, -80.577366, 1.0], [28.5618571, -80.577366, 1.0], [34.632093, -120.610829, 1.0], [28.6080585, -80.6039558, 1.0], [34.632093, -120.610829, 1.0], [28.5618571, -80.577366, 0.0], [28.5618571, -80.577366, 0.0], [34.632093, -120.610829, 1.0], [28.6080585, -80.6039558, 1.0], [28.5618571, -80.577366, 1.0], [28.5618571, -80.577366, 1.0], [34.632093, -120.610829, 1.0], [28.5618571, -80.577366, 1.0], [28.5618571, -80.577366, 0.0], [28.5618571, -80.577366, 1.0], [28.5618571, -80.577366, 1.0], [28.5618571, -80.577366, 1.0], [28.5618571, -80.577366, 1.0], [28.6080585, -80.6039558, 0.0], [28.5618571, -80.577366, 1.0], [28.5618571, -80.577366, 0.0], [28.5618571, -80.577366, 1.0], [28.6080585, -80.6039558, 0.0], [28.6080585, -80.6039558, 1.0], [28.6080585, -80.6039558, 1.0], [28.5618571, -80.577366, 1.0], [28.5618571, -80.577366, 1.0], [28.5618571, -80.577366, 1.0], [28.5618571, -80.577366, 1.0], [28.5618571, -80.577366, 1.0], [28.5618571, -80.577366, 1.0], [28.6080585, -80.6039558, 1.0], [28.6080585, -80.6039558, 1.0], [28.6080585, -80.6039558, 1.0], [28.5618571, -80.577366, 1.0], [28.5618571, -80.577366, 1.0]],\n",
       "                {&quot;blur&quot;: 20, &quot;maxZoom&quot;: 1, &quot;minOpacity&quot;: 0.5, &quot;radius&quot;: 25}\n",
       "            ).addTo(map_73a91acf6c3d70b532ba159381f70aa2);\n",
       "        \n",
       "    \n",
       "            var heat_map_fe3a771ca3730081cf6bea336ea4ab56 = L.heatLayer(\n",
       "                [[28.5618571, -80.577366, 0.0], [28.5618571, -80.577366, 0.0], [28.5618571, -80.577366, 0.0], [34.632093, -120.610829, 0.0], [28.5618571, -80.577366, 0.0], [28.5618571, -80.577366, 0.0], [28.5618571, -80.577366, 1.0], [28.5618571, -80.577366, 1.0], [28.5618571, -80.577366, 0.0], [28.5618571, -80.577366, 0.0], [28.5618571, -80.577366, 0.0], [28.5618571, -80.577366, 0.0], [28.5618571, -80.577366, 1.0], [28.5618571, -80.577366, 0.0], [28.5618571, -80.577366, 0.0], [28.5618571, -80.577366, 0.0], [28.5618571, -80.577366, 1.0], [34.632093, -120.610829, 0.0], [28.5618571, -80.577366, 0.0], [28.5618571, -80.577366, 1.0], [28.5618571, -80.577366, 1.0], [28.5618571, -80.577366, 1.0], [28.5618571, -80.577366, 1.0], [28.5618571, -80.577366, 1.0], [28.5618571, -80.577366, 0.0], [34.632093, -120.610829, 1.0], [28.6080585, -80.6039558, 1.0], [28.6080585, -80.6039558, 0.0], [28.6080585, -80.6039558, 1.0], [28.6080585, -80.6039558, 1.0], [28.6080585, -80.6039558, 0.0], [28.6080585, -80.6039558, 1.0], [28.6080585, -80.6039558, 1.0], [34.632093, -120.610829, 1.0], [28.6080585, -80.6039558, 0.0], [28.6080585, -80.6039558, 1.0], [34.632093, -120.610829, 1.0], [28.6080585, -80.6039558, 1.0], [34.632093, -120.610829, 1.0], [28.6080585, -80.6039558, 1.0], [28.6080585, -80.6039558, 1.0], [28.5618571, -80.577366, 1.0], [34.632093, -120.610829, 1.0], [28.5618571, -80.577366, 1.0], [28.5618571, -80.577366, 1.0], [28.5618571, -80.577366, 0.0], [34.632093, -120.610829, 0.0], [28.5618571, -80.577366, 0.0], [28.5618571, -80.577366, 1.0], [28.6080585, -80.6039558, 1.0], [28.5618571, -80.577366, 0.0], [28.5618571, -80.577366, 0.0], [28.5618571, -80.577366, 1.0], [34.632093, -120.610829, 1.0], [28.5618571, -80.577366, 1.0], [28.5618571, -80.577366, 1.0], [34.632093, -120.610829, 1.0], [28.6080585, -80.6039558, 1.0], [34.632093, -120.610829, 1.0], [28.5618571, -80.577366, 0.0], [28.5618571, -80.577366, 0.0], [34.632093, -120.610829, 1.0], [28.6080585, -80.6039558, 1.0], [28.5618571, -80.577366, 1.0], [28.5618571, -80.577366, 1.0], [34.632093, -120.610829, 1.0], [28.5618571, -80.577366, 1.0], [28.5618571, -80.577366, 0.0], [28.5618571, -80.577366, 1.0], [28.5618571, -80.577366, 1.0], [28.5618571, -80.577366, 1.0], [28.5618571, -80.577366, 1.0], [28.6080585, -80.6039558, 0.0], [28.5618571, -80.577366, 1.0], [28.5618571, -80.577366, 0.0], [28.5618571, -80.577366, 1.0], [28.6080585, -80.6039558, 0.0], [28.6080585, -80.6039558, 1.0], [28.6080585, -80.6039558, 1.0], [28.5618571, -80.577366, 1.0], [28.5618571, -80.577366, 1.0], [28.5618571, -80.577366, 1.0], [28.5618571, -80.577366, 1.0], [28.5618571, -80.577366, 1.0], [28.5618571, -80.577366, 1.0], [28.6080585, -80.6039558, 1.0], [28.6080585, -80.6039558, 1.0], [28.6080585, -80.6039558, 1.0], [28.5618571, -80.577366, 1.0], [28.5618571, -80.577366, 1.0]],\n",
       "                {&quot;blur&quot;: 70, &quot;maxZoom&quot;: 400, &quot;minOpacity&quot;: 0.5, &quot;radius&quot;: 10000}\n",
       "            ).addTo(map_73a91acf6c3d70b532ba159381f70aa2);\n",
       "        \n",
       "&lt;/script&gt;\n",
       "&lt;/html&gt;\" style=\"position:absolute;width:100%;height:100%;left:0;top:0;border:none !important;\" allowfullscreen webkitallowfullscreen mozallowfullscreen></iframe></div></div>"
      ],
      "text/plain": [
       "<folium.folium.Map at 0x1e6315a2920>"
      ]
     },
     "execution_count": 24,
     "metadata": {},
     "output_type": "execute_result"
    }
   ],
   "source": [
    "# Crear un mapa base centrado en el promedio de las coordenadas\n",
    "mapa = folium.Map(location=[df['Latitude'].mean(), df['Longitude'].mean()], zoom_start=5)\n",
    "\n",
    "# Preparar los datos para el mapa de calor\n",
    "heatmap_data = df[['Latitude', 'Longitude', 'success']].values.tolist()\n",
    "\n",
    "# Agregar puntos al mapa de calor con parámetros ajustados\n",
    "HeatMap(heatmap_data, radius=25, blur=20, max_zoom=1).add_to(mapa)\n",
    "\n",
    "# Agregar puntos al mapa de calor con parámetros ajustados para una mejor visualización\n",
    "HeatMap(heatmap_data, radius=10000, blur=70, max_zoom=400).add_to(mapa)\n",
    "\n",
    "# Mostrar el mapa\n",
    "mapa\n",
    "\n"
   ]
  },
  {
   "cell_type": "code",
   "execution_count": null,
   "id": "179b217c-fa4c-475a-85a0-d35d4abf1e1f",
   "metadata": {},
   "outputs": [],
   "source": []
  }
 ],
 "metadata": {
  "kernelspec": {
   "display_name": "Python 3 (ipykernel)",
   "language": "python",
   "name": "python3"
  },
  "language_info": {
   "codemirror_mode": {
    "name": "ipython",
    "version": 3
   },
   "file_extension": ".py",
   "mimetype": "text/x-python",
   "name": "python",
   "nbconvert_exporter": "python",
   "pygments_lexer": "ipython3",
   "version": "3.10.4"
  }
 },
 "nbformat": 4,
 "nbformat_minor": 5
}
